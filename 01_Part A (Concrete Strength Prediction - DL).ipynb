{
 "cells": [
  {
   "cell_type": "markdown",
   "id": "d19227f0-4e16-4258-bfb7-fef9649bafd8",
   "metadata": {},
   "source": [
    "#### Part A. Build a baseline model (5 marks) \r\n",
    "\r\n",
    "Use the Keras library to build a neural network with the following:\r\n",
    "\r\n",
    "- One hidden layer of 10 nodes, and a ReLU activation function\r\n",
    "\r\n",
    "- Use the adam optimizer and the mean squared error  as the loss function.\r\n",
    "\r\n",
    "1. Randomly split the data into a training and test sets by holding 30% of the data for testing. You can use the \r\n",
    "train_test_split\r\n",
    "helper function from Scikit-learn.\r\n",
    "\r\n",
    "2. Train the model on the training data using 50 epochs.\r\n",
    "\r\n",
    "3. Evaluate the model on the test data and compute the mean squared error between the predicted concrete strength and the actual concrete strength. You can use the mean_squared_error function from Scikit-learn.\r\n",
    "\r\n",
    "4. Repeat steps 1 - 3, 50 times, i.e., create a list of 50 mean squared errors.\r\n",
    "\r\n",
    "5. Report the mean and the standard deviation of the mean squared errors."
   ]
  },
  {
   "cell_type": "code",
   "execution_count": 1,
   "id": "fe04f9e7-56bc-4e7f-b633-82741bec98fe",
   "metadata": {},
   "outputs": [],
   "source": [
    "# Import necessary libraries\n",
    "import numpy as np  # For numerical operations\n",
    "import pandas as pd  # For data manipulation\n",
    "\n",
    "from sklearn.metrics import mean_squared_error  # To calculate the Mean Squared Error\n",
    "from sklearn.model_selection import train_test_split  # For splitting the dataset\n",
    "from tensorflow.keras.layers import Dense  # To define the layers of the neural network\n",
    "from tensorflow.keras.models import Sequential  # To build the neural network\n",
    "from tensorflow.keras.optimizers import Adam  # Optimizer for training the model"
   ]
  },
  {
   "cell_type": "code",
   "execution_count": 2,
   "id": "2262b184-ff98-4593-be13-c5160c046704",
   "metadata": {},
   "outputs": [],
   "source": [
    "# Load the dataset\n",
    "url = \"concrete_data.csv\"  # Path to the dataset\n",
    "data = pd.read_csv(url)  # Load data into a pandas DataFrame"
   ]
  },
  {
   "cell_type": "code",
   "execution_count": 3,
   "id": "c70ef97c-c6b6-4479-a7d7-d71e171281df",
   "metadata": {},
   "outputs": [
    {
     "data": {
      "text/html": [
       "<div>\n",
       "<style scoped>\n",
       "    .dataframe tbody tr th:only-of-type {\n",
       "        vertical-align: middle;\n",
       "    }\n",
       "\n",
       "    .dataframe tbody tr th {\n",
       "        vertical-align: top;\n",
       "    }\n",
       "\n",
       "    .dataframe thead th {\n",
       "        text-align: right;\n",
       "    }\n",
       "</style>\n",
       "<table border=\"1\" class=\"dataframe\">\n",
       "  <thead>\n",
       "    <tr style=\"text-align: right;\">\n",
       "      <th></th>\n",
       "      <th>Cement</th>\n",
       "      <th>Blast Furnace Slag</th>\n",
       "      <th>Fly Ash</th>\n",
       "      <th>Water</th>\n",
       "      <th>Superplasticizer</th>\n",
       "      <th>Coarse Aggregate</th>\n",
       "      <th>Fine Aggregate</th>\n",
       "      <th>Age</th>\n",
       "      <th>Strength</th>\n",
       "    </tr>\n",
       "  </thead>\n",
       "  <tbody>\n",
       "    <tr>\n",
       "      <th>0</th>\n",
       "      <td>540.0</td>\n",
       "      <td>0.0</td>\n",
       "      <td>0.0</td>\n",
       "      <td>162.0</td>\n",
       "      <td>2.5</td>\n",
       "      <td>1040.0</td>\n",
       "      <td>676.0</td>\n",
       "      <td>28</td>\n",
       "      <td>79.99</td>\n",
       "    </tr>\n",
       "    <tr>\n",
       "      <th>1</th>\n",
       "      <td>540.0</td>\n",
       "      <td>0.0</td>\n",
       "      <td>0.0</td>\n",
       "      <td>162.0</td>\n",
       "      <td>2.5</td>\n",
       "      <td>1055.0</td>\n",
       "      <td>676.0</td>\n",
       "      <td>28</td>\n",
       "      <td>61.89</td>\n",
       "    </tr>\n",
       "    <tr>\n",
       "      <th>2</th>\n",
       "      <td>332.5</td>\n",
       "      <td>142.5</td>\n",
       "      <td>0.0</td>\n",
       "      <td>228.0</td>\n",
       "      <td>0.0</td>\n",
       "      <td>932.0</td>\n",
       "      <td>594.0</td>\n",
       "      <td>270</td>\n",
       "      <td>40.27</td>\n",
       "    </tr>\n",
       "    <tr>\n",
       "      <th>3</th>\n",
       "      <td>332.5</td>\n",
       "      <td>142.5</td>\n",
       "      <td>0.0</td>\n",
       "      <td>228.0</td>\n",
       "      <td>0.0</td>\n",
       "      <td>932.0</td>\n",
       "      <td>594.0</td>\n",
       "      <td>365</td>\n",
       "      <td>41.05</td>\n",
       "    </tr>\n",
       "    <tr>\n",
       "      <th>4</th>\n",
       "      <td>198.6</td>\n",
       "      <td>132.4</td>\n",
       "      <td>0.0</td>\n",
       "      <td>192.0</td>\n",
       "      <td>0.0</td>\n",
       "      <td>978.4</td>\n",
       "      <td>825.5</td>\n",
       "      <td>360</td>\n",
       "      <td>44.30</td>\n",
       "    </tr>\n",
       "  </tbody>\n",
       "</table>\n",
       "</div>"
      ],
      "text/plain": [
       "   Cement  Blast Furnace Slag  Fly Ash  Water  Superplasticizer  \\\n",
       "0   540.0                 0.0      0.0  162.0               2.5   \n",
       "1   540.0                 0.0      0.0  162.0               2.5   \n",
       "2   332.5               142.5      0.0  228.0               0.0   \n",
       "3   332.5               142.5      0.0  228.0               0.0   \n",
       "4   198.6               132.4      0.0  192.0               0.0   \n",
       "\n",
       "   Coarse Aggregate  Fine Aggregate  Age  Strength  \n",
       "0            1040.0           676.0   28     79.99  \n",
       "1            1055.0           676.0   28     61.89  \n",
       "2             932.0           594.0  270     40.27  \n",
       "3             932.0           594.0  365     41.05  \n",
       "4             978.4           825.5  360     44.30  "
      ]
     },
     "execution_count": 3,
     "metadata": {},
     "output_type": "execute_result"
    }
   ],
   "source": [
    "data.head()"
   ]
  },
  {
   "cell_type": "code",
   "execution_count": 4,
   "id": "afcabc78-1fab-4646-aa1c-49f0d79f7132",
   "metadata": {},
   "outputs": [],
   "source": [
    "# Data contains columns such as:\n",
    "# Cement, Blast Furnace Slag, Fly Ash, Water, Superplasticizer, Coarse Aggregate, Fine Aggregate, Age, Strength\n",
    "# The target variable (y) is 'Strength'\n",
    "\n",
    "# Split data into predictors (X) and target variable (y)\n",
    "X = data.drop(\"Strength\", axis=1)  # Features/predictors\n",
    "y = data[\"Strength\"]  # Target variable"
   ]
  },
  {
   "cell_type": "code",
   "execution_count": 5,
   "id": "ee3457ad-140e-46ef-9ec0-1e6fa5557ed4",
   "metadata": {},
   "outputs": [],
   "source": [
    "# Define the baseline model function\n",
    "def baseline_model(X, y):\n",
    "    \"\"\"\n",
    "    Build and evaluate a baseline regression model using Keras.\n",
    "    The model has:\n",
    "    - One hidden layer with 10 nodes and ReLU activation.\n",
    "    - Adam optimizer and mean squared error loss.\n",
    "    This process is repeated 50 times to calculate mean and standard deviation of MSE.\n",
    "\n",
    "    Parameters:\n",
    "    X: Features (predictors)\n",
    "    y: Target variable (concrete strength)\n",
    "\n",
    "    Returns:\n",
    "    Mean and standard deviation of the MSEs from 50 iterations.\n",
    "    \"\"\"\n",
    "    mse_list = []  # List to store MSEs from each iteration\n",
    "\n",
    "    # Repeat the process 50 times\n",
    "    for _ in range(50):\n",
    "        # Split the dataset into training and testing sets (70% train, 30% test)\n",
    "        X_train, X_test, y_train, y_test = train_test_split(X, y, test_size=0.3, random_state=np.random.randint(0, 100))\n",
    "        \n",
    "        # Build the neural network model\n",
    "        model = Sequential([\n",
    "            Dense(10, activation='relu', input_shape=(X_train.shape[1],)),  # Hidden layer with 10 nodes\n",
    "            Dense(1)  # Output layer with a single node (for regression)\n",
    "        ])\n",
    "        \n",
    "        # Compile the model with Adam optimizer and mean squared error loss\n",
    "        model.compile(optimizer=Adam(), loss='mean_squared_error')\n",
    "        \n",
    "        # Train the model on the training data for 50 epochs\n",
    "        model.fit(X_train, y_train, epochs=50, verbose=0)\n",
    "        \n",
    "        # Evaluate the model on the test data\n",
    "        y_pred = model.predict(X_test, verbose=0)  # Predict on the test set\n",
    "        mse = mean_squared_error(y_test, y_pred)  # Calculate Mean Squared Error\n",
    "        mse_list.append(mse)  # Append the MSE to the list\n",
    "    \n",
    "    # Return the mean and standard deviation of the MSEs\n",
    "    return np.mean(mse_list), np.std(mse_list)"
   ]
  },
  {
   "cell_type": "code",
   "execution_count": 6,
   "id": "d5845b80-dea1-475b-937a-df3b3b87722d",
   "metadata": {},
   "outputs": [],
   "source": [
    "# Run the baseline model and calculate the mean and standard deviation of MSE\n",
    "mean_a, std_a = baseline_model(X, y)"
   ]
  },
  {
   "cell_type": "code",
   "execution_count": 7,
   "id": "d33aca08-de24-4d99-9994-9ec3c370940a",
   "metadata": {},
   "outputs": [
    {
     "name": "stdout",
     "output_type": "stream",
     "text": [
      "Part A - Baseline Model: Mean MSE = 283.67766803016343 Std MSE = 236.16119813621864\n"
     ]
    }
   ],
   "source": [
    "print(\"Part A - Baseline Model: Mean MSE =\", mean_a, \"Std MSE =\", std_a)"
   ]
  },
  {
   "cell_type": "code",
   "execution_count": null,
   "id": "de5f5b8a-c309-4917-9ba8-15967e15ce1e",
   "metadata": {},
   "outputs": [],
   "source": []
  }
 ],
 "metadata": {
  "kernelspec": {
   "display_name": "Python 3 (ipykernel)",
   "language": "python",
   "name": "python3"
  },
  "language_info": {
   "codemirror_mode": {
    "name": "ipython",
    "version": 3
   },
   "file_extension": ".py",
   "mimetype": "text/x-python",
   "name": "python",
   "nbconvert_exporter": "python",
   "pygments_lexer": "ipython3",
   "version": "3.8.19"
  }
 },
 "nbformat": 4,
 "nbformat_minor": 5
}
