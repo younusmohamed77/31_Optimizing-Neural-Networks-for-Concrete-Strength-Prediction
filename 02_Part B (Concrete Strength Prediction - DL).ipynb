{
 "cells": [
  {
   "cell_type": "markdown",
   "id": "eeaed351-4b50-412e-8fab-b635cf71b304",
   "metadata": {},
   "source": [
    "#### B. Normalize the data (5 marks) \r\n",
    "\r\n",
    "Repeat Part A but use a normalized version of the data. Recall that one way to normalize the data is by subtracting the mean from the individual predictors and dividing by the standard deviation.\r\n",
    "\r\n",
    "How does the mean of the mean squared errors compare to that from Step A?"
   ]
  },
  {
   "cell_type": "code",
   "execution_count": 1,
   "id": "e62bc485-408d-48e1-9930-3331e1e13b55",
   "metadata": {},
   "outputs": [],
   "source": [
    "# Import necessary libraries\n",
    "import numpy as np  # For numerical operations\n",
    "import pandas as pd  # For data manipulation\n",
    "\n",
    "from sklearn.metrics import mean_squared_error  # To calculate the Mean Squared Error\n",
    "from sklearn.model_selection import train_test_split  # To split the dataset into training and test sets\n",
    "from sklearn.preprocessing import StandardScaler  # To normalize the data\n",
    "from tensorflow.keras.layers import Dense  # To define the layers of the neural network\n",
    "from tensorflow.keras.models import Sequential  # To build the neural network\n",
    "from tensorflow.keras.optimizers import Adam  # Optimizer for training the model"
   ]
  },
  {
   "cell_type": "code",
   "execution_count": 2,
   "id": "cf78e3ff-9d9f-442f-9283-b5abc1895a96",
   "metadata": {},
   "outputs": [],
   "source": [
    "# Load the dataset\n",
    "url = \"concrete_data.csv\"  # Path to the dataset\n",
    "data = pd.read_csv(url)  # Load the dataset into a pandas DataFrame"
   ]
  },
  {
   "cell_type": "code",
   "execution_count": 3,
   "id": "0666ec15-b9de-440f-859a-c2d87cb5af4e",
   "metadata": {},
   "outputs": [],
   "source": [
    "# Split data into predictors (X) and target variable (y)\n",
    "X = data.drop(\"Strength\", axis=1)  # Features/predictors (all columns except \"Strength\")\n",
    "y = data[\"Strength\"]  # Target variable (\"Strength\")"
   ]
  },
  {
   "cell_type": "code",
   "execution_count": 4,
   "id": "d6ddca4b-eb8e-4798-ae2b-8d5f3283d661",
   "metadata": {},
   "outputs": [],
   "source": [
    "# Part A: Build Baseline Model\n",
    "def baseline_model(X, y):\n",
    "    \"\"\"\n",
    "    Builds and evaluates a baseline regression model using Keras.\n",
    "    The model:\n",
    "    - Has one hidden layer with 10 nodes and ReLU activation.\n",
    "    - Uses the Adam optimizer and mean squared error loss function.\n",
    "    The process is repeated 50 times, and the mean and standard deviation of the MSEs are computed.\n",
    "\n",
    "    Parameters:\n",
    "    X: Features (predictors)\n",
    "    y: Target variable (concrete strength)\n",
    "\n",
    "    Returns:\n",
    "    Mean and standard deviation of the MSEs from 50 iterations.\n",
    "    \"\"\"\n",
    "    mse_list = []  # List to store MSEs from each iteration\n",
    "\n",
    "    # Repeat the process 50 times\n",
    "    for _ in range(50):\n",
    "        # Split the dataset into training (70%) and testing (30%) sets\n",
    "        X_train, X_test, y_train, y_test = train_test_split(X, y, test_size=0.3, random_state=np.random.randint(0, 100))\n",
    "        \n",
    "        # Build the neural network model\n",
    "        model = Sequential([\n",
    "            Dense(10, activation='relu', input_shape=(X_train.shape[1],)),  # Hidden layer with 10 nodes\n",
    "            Dense(1)  # Output layer with a single node (for regression)\n",
    "        ])\n",
    "        \n",
    "        # Compile the model using Adam optimizer and mean squared error loss\n",
    "        model.compile(optimizer=Adam(), loss='mean_squared_error')\n",
    "        \n",
    "        # Train the model on the training data for 50 epochs\n",
    "        model.fit(X_train, y_train, epochs=50, verbose=0)\n",
    "        \n",
    "        # Evaluate the model on the test data\n",
    "        y_pred = model.predict(X_test, verbose=0)  # Predict on the test set\n",
    "        mse = mean_squared_error(y_test, y_pred)  # Calculate Mean Squared Error\n",
    "        mse_list.append(mse)  # Append the MSE to the list\n",
    "    \n",
    "    # Return the mean and standard deviation of the MSEs\n",
    "    return np.mean(mse_list), np.std(mse_list)\n",
    "\n",
    "# Part B: Normalize the data\n",
    "def normalized_model(X, y):\n",
    "    \"\"\"\n",
    "    Builds and evaluates a regression model using normalized data.\n",
    "    The normalization process:\n",
    "    - Subtracts the mean and divides by the standard deviation for each feature.\n",
    "    The rest of the process is the same as the baseline model, with 50 iterations.\n",
    "\n",
    "    Parameters:\n",
    "    X: Features (predictors)\n",
    "    y: Target variable (concrete strength)\n",
    "\n",
    "    Returns:\n",
    "    Mean and standard deviation of the MSEs from 50 iterations with normalized data.\n",
    "    \"\"\"\n",
    "    # Normalize the data using StandardScaler\n",
    "    scaler = StandardScaler()  # Initialize the scaler\n",
    "    X_normalized = scaler.fit_transform(X)  # Fit the scaler to X and transform it\n",
    "    \n",
    "    # Call the baseline model function with the normalized data\n",
    "    return baseline_model(X_normalized, y)"
   ]
  },
  {
   "cell_type": "code",
   "execution_count": 5,
   "id": "b1f3c273-1bca-4908-876a-25d3e4d62cc8",
   "metadata": {},
   "outputs": [],
   "source": [
    "# Run the normalized model and calculate the mean and standard deviation of MSE\n",
    "mean_b, std_b = normalized_model(X, y)"
   ]
  },
  {
   "cell_type": "code",
   "execution_count": 6,
   "id": "57fa5540-d840-41f7-a0f9-bae3c00398f1",
   "metadata": {},
   "outputs": [
    {
     "name": "stdout",
     "output_type": "stream",
     "text": [
      "Part B - Normalized Model: Mean MSE = 369.76160306796623 Std MSE = 93.85089910118067\n"
     ]
    }
   ],
   "source": [
    "print(\"Part B - Normalized Model: Mean MSE =\", mean_b, \"Std MSE =\", std_b)"
   ]
  },
  {
   "cell_type": "markdown",
   "id": "d6be55cf-0f2c-4a1b-8a9c-b20a7036df53",
   "metadata": {},
   "source": [
    "#### How does the mean of the mean squared errors compare to that from Step A?\n",
    "\n",
    "The comparison between the Mean MSE values from Part A (Baseline Model) and Part B (Normalized Model) reveals the following:\n",
    "\n",
    "1. Mean MSE Comparison:\n",
    "    - Part A (Baseline Model): Mean MSE = 283.68\n",
    "    - Part B (Normalized Model): Mean MSE = 369.76\n",
    "      \n",
    "The mean MSE for the normalized model (Part B) is slightly higher than the baseline model (Part A). This suggests that normalization did not improve the overall accuracy in terms of mean squared error for this specific dataset and model configuration.\n",
    "\n",
    "2. Standard Deviation Comparison:\n",
    "    - Part A (Baseline Model): Std MSE = 236.16\n",
    "    - Part B (Normalized Model): Std MSE = 93.85\n",
    "      \n",
    "The standard deviation of the MSE is significantly lower for the normalized model compared to the baseline model. This indicates that normalization has reduced the variability in the model's performance across the 50 runs, making the model predictions more consistent.\n",
    "\n",
    "#### Conclusion:\n",
    "While normalization slightly increased the mean MSE, it significantly improved the model's stability by reducing the standard deviation of the MSE. This suggests that normalization may help in achieving more reliable predictions, even if the accuracy does not always improve."
   ]
  },
  {
   "cell_type": "code",
   "execution_count": null,
   "id": "6250a9e6-60bc-4482-902c-6cdfcdc40321",
   "metadata": {},
   "outputs": [],
   "source": []
  }
 ],
 "metadata": {
  "kernelspec": {
   "display_name": "Python 3 (ipykernel)",
   "language": "python",
   "name": "python3"
  },
  "language_info": {
   "codemirror_mode": {
    "name": "ipython",
    "version": 3
   },
   "file_extension": ".py",
   "mimetype": "text/x-python",
   "name": "python",
   "nbconvert_exporter": "python",
   "pygments_lexer": "ipython3",
   "version": "3.8.19"
  }
 },
 "nbformat": 4,
 "nbformat_minor": 5
}
